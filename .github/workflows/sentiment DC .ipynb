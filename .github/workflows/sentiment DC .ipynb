{
 "cells": [
  {
   "cell_type": "code",
   "execution_count": 38,
   "metadata": {},
   "outputs": [
    {
     "name": "stdout",
     "output_type": "stream",
     "text": [
      "    end_date    yes                                           Headline  \\\n",
      "0 2024-12-04  38.00  Detroit’s Mayor, a Democrat, Will Run for Mich...   \n",
      "1 2024-12-04  38.00  Trump Has ‘Lost Faith’ in N.R.A., Says Gun Gro...   \n",
      "2 2024-12-04  38.00  Detroit’s Mayor, a Democrat, Will Run for Mich...   \n",
      "3 2024-12-04  38.00  Trump Has ‘Lost Faith’ in N.R.A., Says Gun Gro...   \n",
      "4 2024-12-02  37.11    Biden the Father vs. Biden the Institutionalist   \n",
      "\n",
      "  Published Date  \n",
      "0     2024-12-04  \n",
      "1     2024-12-04  \n",
      "2     2024-12-04  \n",
      "3     2024-12-04  \n",
      "4     2024-12-02  \n"
     ]
    }
   ],
   "source": [
    "import pandas as pd\n",
    "\n",
    "# Load your datasets\n",
    "poll = pd.read_csv('president_approval.csv')\n",
    "headlines = pd.read_csv('headlines.csv')\n",
    "\n",
    "poll = poll.iloc[:, :2]\n",
    "\n",
    "# Ensure the date columns are in the same format\n",
    "poll['end_date'] = pd.to_datetime(poll['end_date'])\n",
    "headlines['Date'] = pd.to_datetime(headlines['Date'])\n",
    "\n",
    "# Perform the left join\n",
    "merged_df = pd.merge(poll, headlines, left_on='end_date', right_on='Date', how='left')\n",
    "\n",
    "# Remove rows where there's no matching date (i.e., where 'Headline' is null)\n",
    "merged_df = merged_df.dropna(subset=['Headline'])\n",
    "\n",
    "# If you want to keep only one date column, you can drop the redundant one\n",
    "merged_df = merged_df.drop('Date', axis=1)\n",
    "\n",
    "# Display the first few rows to verify\n",
    "print(merged_df.head())\n",
    "\n",
    "# Save the result if needed\n",
    "merged_df.to_csv('merged_poll_headlines.csv', index=False)"
   ]
  },
  {
   "cell_type": "code",
   "execution_count": 45,
   "metadata": {},
   "outputs": [
    {
     "data": {
      "text/plain": [
       "0    Detroit’s Mayor, a Democrat, Will Run for Mich...\n",
       "1    Trump Has ‘Lost Faith’ in N.R.A., Says Gun Gro...\n",
       "2    Detroit’s Mayor, a Democrat, Will Run for Mich...\n",
       "3    Trump Has ‘Lost Faith’ in N.R.A., Says Gun Gro...\n",
       "4      Biden the Father vs. Biden the Institutionalist\n",
       "Name: Headline, dtype: object"
      ]
     },
     "execution_count": 45,
     "metadata": {},
     "output_type": "execute_result"
    }
   ],
   "source": [
    "corpus = merged_df['Headline']\n",
    "corpus.head()"
   ]
  },
  {
   "cell_type": "code",
   "execution_count": 47,
   "metadata": {},
   "outputs": [],
   "source": [
    "# import nltk vader library\n",
    "from nltk.sentiment.vader import SentimentIntensityAnalyzer\n",
    "    \n",
    "# initiate an analyzer\n",
    "sia = SentimentIntensityAnalyzer()\n",
    "\n",
    "senti_pos = []\n",
    "senti_neg = []\n",
    "senti_neu = []\n",
    "senti_comp = []\n",
    "\n",
    "\n",
    "# iterate through each sentence in corpus\n",
    "for sentence in corpus:\n",
    "    \n",
    "    #print(sentence)\n",
    "    \n",
    "    # analyze the sentiment. ss is a dictionary\n",
    "    ss = sia.polarity_scores(sentence)\n",
    "    \n",
    "    # output each sentiment score (neg, neu, pos, compound) in ss\n",
    "    #print(ss['pos']) # for debugging\n",
    "    senti_pos.append(ss['pos'])\n",
    "    senti_neg.append(ss['neg'])\n",
    "    senti_neu.append(ss['neu'])\n",
    "    senti_comp.append(ss['compound'])\n",
    "    \n",
    "    # print an empty line as seperator\n",
    "    #print('\\n')"
   ]
  },
  {
   "cell_type": "code",
   "execution_count": 50,
   "metadata": {},
   "outputs": [],
   "source": [
    "# adding the list to the dataframe as column using assign(column_name = data)\n",
    "merged_df = merged_df.assign(pos = senti_pos)\n",
    "merged_df = merged_df.assign(neg = senti_neg)\n",
    "merged_df = merged_df.assign(neu = senti_neu)\n",
    "merged_df = merged_df.assign(compound = senti_comp)"
   ]
  },
  {
   "cell_type": "code",
   "execution_count": 51,
   "metadata": {},
   "outputs": [],
   "source": [
    "X = merged_df[['pos','neg', 'neu', 'compound']]"
   ]
  },
  {
   "cell_type": "code",
   "execution_count": 52,
   "metadata": {},
   "outputs": [
    {
     "data": {
      "text/html": [
       "<div>\n",
       "<style scoped>\n",
       "    .dataframe tbody tr th:only-of-type {\n",
       "        vertical-align: middle;\n",
       "    }\n",
       "\n",
       "    .dataframe tbody tr th {\n",
       "        vertical-align: top;\n",
       "    }\n",
       "\n",
       "    .dataframe thead th {\n",
       "        text-align: right;\n",
       "    }\n",
       "</style>\n",
       "<table border=\"1\" class=\"dataframe\">\n",
       "  <thead>\n",
       "    <tr style=\"text-align: right;\">\n",
       "      <th></th>\n",
       "      <th>pos</th>\n",
       "      <th>neg</th>\n",
       "      <th>neu</th>\n",
       "      <th>compound</th>\n",
       "    </tr>\n",
       "  </thead>\n",
       "  <tbody>\n",
       "    <tr>\n",
       "      <th>0</th>\n",
       "      <td>0.0</td>\n",
       "      <td>0.000</td>\n",
       "      <td>1.000</td>\n",
       "      <td>0.00</td>\n",
       "    </tr>\n",
       "    <tr>\n",
       "      <th>1</th>\n",
       "      <td>0.0</td>\n",
       "      <td>0.211</td>\n",
       "      <td>0.789</td>\n",
       "      <td>-0.34</td>\n",
       "    </tr>\n",
       "    <tr>\n",
       "      <th>2</th>\n",
       "      <td>0.0</td>\n",
       "      <td>0.000</td>\n",
       "      <td>1.000</td>\n",
       "      <td>0.00</td>\n",
       "    </tr>\n",
       "    <tr>\n",
       "      <th>3</th>\n",
       "      <td>0.0</td>\n",
       "      <td>0.211</td>\n",
       "      <td>0.789</td>\n",
       "      <td>-0.34</td>\n",
       "    </tr>\n",
       "    <tr>\n",
       "      <th>4</th>\n",
       "      <td>0.0</td>\n",
       "      <td>0.000</td>\n",
       "      <td>1.000</td>\n",
       "      <td>0.00</td>\n",
       "    </tr>\n",
       "  </tbody>\n",
       "</table>\n",
       "</div>"
      ],
      "text/plain": [
       "   pos    neg    neu  compound\n",
       "0  0.0  0.000  1.000      0.00\n",
       "1  0.0  0.211  0.789     -0.34\n",
       "2  0.0  0.000  1.000      0.00\n",
       "3  0.0  0.211  0.789     -0.34\n",
       "4  0.0  0.000  1.000      0.00"
      ]
     },
     "execution_count": 52,
     "metadata": {},
     "output_type": "execute_result"
    }
   ],
   "source": [
    "X.head()"
   ]
  },
  {
   "cell_type": "code",
   "execution_count": 53,
   "metadata": {},
   "outputs": [
    {
     "data": {
      "text/plain": [
       "(40, 4)"
      ]
     },
     "execution_count": 53,
     "metadata": {},
     "output_type": "execute_result"
    }
   ],
   "source": [
    "X.shape"
   ]
  },
  {
   "cell_type": "code",
   "execution_count": 56,
   "metadata": {},
   "outputs": [
    {
     "data": {
      "text/html": [
       "<div>\n",
       "<style scoped>\n",
       "    .dataframe tbody tr th:only-of-type {\n",
       "        vertical-align: middle;\n",
       "    }\n",
       "\n",
       "    .dataframe tbody tr th {\n",
       "        vertical-align: top;\n",
       "    }\n",
       "\n",
       "    .dataframe thead th {\n",
       "        text-align: right;\n",
       "    }\n",
       "</style>\n",
       "<table border=\"1\" class=\"dataframe\">\n",
       "  <thead>\n",
       "    <tr style=\"text-align: right;\">\n",
       "      <th></th>\n",
       "      <th>yes</th>\n",
       "    </tr>\n",
       "  </thead>\n",
       "  <tbody>\n",
       "    <tr>\n",
       "      <th>0</th>\n",
       "      <td>38.00</td>\n",
       "    </tr>\n",
       "    <tr>\n",
       "      <th>1</th>\n",
       "      <td>38.00</td>\n",
       "    </tr>\n",
       "    <tr>\n",
       "      <th>2</th>\n",
       "      <td>38.00</td>\n",
       "    </tr>\n",
       "    <tr>\n",
       "      <th>3</th>\n",
       "      <td>38.00</td>\n",
       "    </tr>\n",
       "    <tr>\n",
       "      <th>4</th>\n",
       "      <td>37.11</td>\n",
       "    </tr>\n",
       "  </tbody>\n",
       "</table>\n",
       "</div>"
      ],
      "text/plain": [
       "     yes\n",
       "0  38.00\n",
       "1  38.00\n",
       "2  38.00\n",
       "3  38.00\n",
       "4  37.11"
      ]
     },
     "execution_count": 56,
     "metadata": {},
     "output_type": "execute_result"
    }
   ],
   "source": [
    "# select target\n",
    "y=merged_df[['yes']]\n",
    "\n",
    "y.head()"
   ]
  },
  {
   "cell_type": "code",
   "execution_count": 57,
   "metadata": {},
   "outputs": [],
   "source": [
    "# load the required library\n",
    "from sklearn.model_selection import train_test_split\n",
    "\n",
    "# split data into training (70%) and testing (30%)\n",
    "X_train, X_test, y_train, y_test = train_test_split(X, y, test_size=0.3, random_state=50)"
   ]
  },
  {
   "cell_type": "code",
   "execution_count": null,
   "metadata": {},
   "outputs": [],
   "source": [
    "# import the library\n",
    "from sklearn.tree import DecisionTreeClassifier\n",
    "\n",
    "# initialize the algorithm\n",
    "dtree=DecisionTreeClassifier(random_state=50)\n",
    "\n",
    "# Generate a new model using training data only\n",
    "dtree.fit(X_train,y_train)"
   ]
  },
  {
   "cell_type": "code",
   "execution_count": null,
   "metadata": {},
   "outputs": [],
   "source": []
  },
  {
   "cell_type": "code",
   "execution_count": 58,
   "metadata": {},
   "outputs": [],
   "source": [
    "# load the required library\n",
    "from sklearn.model_selection import train_test_split\n",
    "\n",
    "# split data into training (70%) and testing (30%)\n",
    "X_train, X_test, y_train, y_test = train_test_split(X, y, test_size=0.3, random_state=50)"
   ]
  },
  {
   "cell_type": "code",
   "execution_count": 67,
   "metadata": {},
   "outputs": [
    {
     "data": {
      "text/plain": [
       "DecisionTreeRegressor(max_depth=5, min_samples_leaf=10, min_samples_split=20,\n",
       "                      random_state=50)"
      ]
     },
     "execution_count": 67,
     "metadata": {},
     "output_type": "execute_result"
    }
   ],
   "source": [
    "# import the library\n",
    "from sklearn.tree import DecisionTreeRegressor\n",
    "\n",
    "# initialize the algorithm\n",
    "dtree = DecisionTreeRegressor(max_depth=5, min_samples_split=20, min_samples_leaf=10, random_state=50)\n",
    "\n",
    "# Generate a new model using training data only\n",
    "dtree.fit(X_train,y_train)"
   ]
  },
  {
   "cell_type": "code",
   "execution_count": 68,
   "metadata": {},
   "outputs": [],
   "source": [
    "# load the required libraries\n",
    "from sklearn.metrics import accuracy_score, classification_report, confusion_matrix  \n",
    "\n",
    "# make a prediction for the input data\n",
    "y_pred = dtree.predict(X_test)"
   ]
  },
  {
   "cell_type": "code",
   "execution_count": 69,
   "metadata": {},
   "outputs": [
    {
     "name": "stdout",
     "output_type": "stream",
     "text": [
      "Mean Squared Error: 6.52700638286215\n",
      "Root Mean Squared Error: 2.554800654231588\n",
      "R-squared Score: -0.24488598560549635\n"
     ]
    }
   ],
   "source": [
    "# Import the correct library for regression\n",
    "from sklearn.tree import DecisionTreeRegressor\n",
    "from sklearn.model_selection import train_test_split\n",
    "from sklearn.metrics import mean_squared_error, r2_score\n",
    "import numpy as np\n",
    "\n",
    "# Train the model using training data\n",
    "dtree.fit(X_train, y_train)\n",
    "\n",
    "# Make predictions on the test set\n",
    "y_pred = dtree.predict(X_test)\n",
    "\n",
    "# Evaluate the model\n",
    "mse = mean_squared_error(y_test, y_pred)\n",
    "rmse = np.sqrt(mse)\n",
    "r2 = r2_score(y_test, y_pred)\n",
    "\n",
    "print(f\"Mean Squared Error: {mse}\")\n",
    "print(f\"Root Mean Squared Error: {rmse}\")\n",
    "print(f\"R-squared Score: {r2}\")"
   ]
  },
  {
   "cell_type": "code",
   "execution_count": null,
   "metadata": {},
   "outputs": [],
   "source": []
  }
 ],
 "metadata": {
  "kernelspec": {
   "display_name": "Python 3",
   "language": "python",
   "name": "python3"
  },
  "language_info": {
   "codemirror_mode": {
    "name": "ipython",
    "version": 3
   },
   "file_extension": ".py",
   "mimetype": "text/x-python",
   "name": "python",
   "nbconvert_exporter": "python",
   "pygments_lexer": "ipython3",
   "version": "3.7.16"
  }
 },
 "nbformat": 4,
 "nbformat_minor": 4
}
